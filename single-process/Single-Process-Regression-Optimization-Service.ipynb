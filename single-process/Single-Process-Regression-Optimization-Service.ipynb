{
 "cells": [
  {
   "cell_type": "markdown",
   "metadata": {},
   "source": [
    "# Single Process Regression Optimization"
   ]
  },
  {
   "cell_type": "markdown",
   "metadata": {},
   "source": [
    "Single process regression optimization targets optimization of a single unit or process, as shown in the figure below. The single process is defined by its inputs, output, and operational behavior. We represent the process inputs as input variables, some of which can be controlled (control variables) and some can be just observed (uncontrollable variables, e.g., sensor data). The process behavior defines the functional relationship between input variables and the output variable(s). In our framework, it is modeled using a regression function with respect to controllable and uncontrollable variables. The regression function is learned as a predictive model from historical data. We support the following regression models: linear regression, decision tree, random forest, MARS, and multilayer perceptron. The regression optimization framework first learns the regression function from historical data (several candidates models can be considered using any of mentioned machine learning models to find the best fit) and the resulting trained regression model is used during the optimization phase to identify optimal values of controllable variables to optimize the output. \n",
    "\n",
    "<img src=\"figures/Picture1.jpg\" alt=\"Drawing\" style=\"width: 550px;\"/>\n",
    "\n",
    "\n",
    "This notebook demonstrates the *[Process and System Regression Optimization](https://developer.ibm.com/apis/catalog/ai4industry--regression-optimization-product/Introduction)* AI and optimization service, comprising models and algorithms for optimizing set points for process control to achieve greater efficiency, productivity, and reduced risk.\n",
    "\n",
    "The APIs offer two specific applications:\n",
    "\n",
    "1. Single process regression optimization aims to learn behavior and provide optimal set points for single unit systems with varying characteristics, and\n",
    "\n",
    "2. System-wide process optimization provides optimal set points for systems comprised on multiple process units such as complex plants or manufacturing processes.\n",
    "\n",
    "The service leverages advanced machine learning techniques including piece-wise linear regression models, deep learning and ensemble models with optimization algorithms based on Mixed-Integer Linear Programming (MILP), nonlinear optimization, and derivative-free optimization for ensemble models.\n",
    "\n",
    "Specifically, in this notebook we demonstrate how to use *single process regression optimization*."
   ]
  },
  {
   "cell_type": "markdown",
   "metadata": {},
   "source": [
    "## Credentials"
   ]
  },
  {
   "cell_type": "markdown",
   "metadata": {},
   "source": [
    "This notebook requires valid credentials to invoke the regression optimization APIs that it is based on. Please obtain your own credentials when customizing this notebook for your own work. Please visit [Regression Optimization @ IBM](https://developer.ibm.com/apis/catalog/ai4industry--regression-optimization-product/Introduction) for trial subscription which will let you get the credentials."
   ]
  },
  {
   "cell_type": "code",
   "execution_count": 2,
   "metadata": {},
   "outputs": [],
   "source": [
    "# Credentials required for running notebook\n",
    "\n",
    "Client_ID = \"replace-with-valid-client-ID\"\n",
    "Client_Secret = \"replace-with-valid-client-Secret\""
   ]
  },
  {
   "cell_type": "code",
   "execution_count": 3,
   "metadata": {},
   "outputs": [],
   "source": [
    "# imports, headers and API endpoint URLs\n",
    "import requests\n",
    "import time\n",
    "import pprint\n",
    "\n",
    "headers = {\n",
    "    'X-IBM-Client-Id': Client_ID,\n",
    "    'X-IBM-Client-Secret': Client_Secret,\n",
    "    'accept': \"application/json\",\n",
    "}\n",
    "\n",
    "reg_job_url = \"https://api.ibm.com/ai4industry/run/pred-opt/v1/regression-model\" \n",
    "opt_job_url = \"https://api.ibm.com/ai4industry/run/pred-opt/v1/single-process-optimization\" "
   ]
  },
  {
   "cell_type": "markdown",
   "metadata": {},
   "source": [
    "## Regression Service Creation and Job Submission\n",
    "\n",
    "We build regression models to capture the inflow-outflow (inputs-outputs) relationship for the process node. Prior to building regression models, the individual sub-processes and their controls, observed variables and outcome variables at the right granularity need to be identified. Prior to using this service, a user would need to complete data cleaning, and feature extraction and engineering techniques to train a regression model, with the intent to maximize accuracy and interpretability. The service supports several ML techniques to represent the historical behavior of a process. The machine learning model with the best test accuracy is deployed for each process which is in turn used during the optimization phase. \n",
    "\n",
    "The regression service call needs 5 inputs, as shown in the cell below: *model-id, training-data, model-type, input-variables and target-variable*. \n",
    "* *model-id* serves as a unique model identifier\n",
    "* *training-data* contains data for training the regression model in the csv format\n",
    "* The choices for *model-type* include \n",
    "    * LR_SK (LinearRegression from scikit-learn), \n",
    "    * RF_SK (RandomForestRegressor from scikit-learn), \n",
    "    * RegTree_SK (DecisionTreeRegressor from scikit-learn combined with linear regression in the leaf nodes), \n",
    "    * MARS (multivariate adaptive regression splines from pyearth), \n",
    "    * NN_SK (MLPRegressor from scikit-learn) and \n",
    "    * NN_KERAS (deep neural network trained using Keras).\n",
    "* Target and input variables may be given any label but need to match the variable names in the header in training data file. \n",
    "\n",
    "Any missing values will need to be removed prior to using this service.\n",
    "\n",
    "We will use the *Regression Optimization service* to first generate regression models from training data and then optimize the controllable variables to maximize output."
   ]
  },
  {
   "cell_type": "markdown",
   "metadata": {},
   "source": [
    "#### Load Training Dataset to Train the Regression Model"
   ]
  },
  {
   "cell_type": "markdown",
   "metadata": {},
   "source": [
    "The dataset below represents historical data of a single process comprising 4 features and 1 target. "
   ]
  },
  {
   "cell_type": "code",
   "execution_count": 4,
   "metadata": {},
   "outputs": [
    {
     "data": {
      "text/html": [
       "<div>\n",
       "<style scoped>\n",
       "    .dataframe tbody tr th:only-of-type {\n",
       "        vertical-align: middle;\n",
       "    }\n",
       "\n",
       "    .dataframe tbody tr th {\n",
       "        vertical-align: top;\n",
       "    }\n",
       "\n",
       "    .dataframe thead th {\n",
       "        text-align: right;\n",
       "    }\n",
       "</style>\n",
       "<table border=\"1\" class=\"dataframe\">\n",
       "  <thead>\n",
       "    <tr style=\"text-align: right;\">\n",
       "      <th></th>\n",
       "      <th>P1_1</th>\n",
       "      <th>P1_2</th>\n",
       "      <th>P1_3</th>\n",
       "      <th>P1_4</th>\n",
       "      <th>P1_5</th>\n",
       "      <th>P1_y</th>\n",
       "    </tr>\n",
       "  </thead>\n",
       "  <tbody>\n",
       "    <tr>\n",
       "      <th>0</th>\n",
       "      <td>3558.734445</td>\n",
       "      <td>4372.057772</td>\n",
       "      <td>4368.767882</td>\n",
       "      <td>0.496077</td>\n",
       "      <td>7654.296930</td>\n",
       "      <td>6910.577119</td>\n",
       "    </tr>\n",
       "    <tr>\n",
       "      <th>1</th>\n",
       "      <td>4443.402776</td>\n",
       "      <td>5204.925143</td>\n",
       "      <td>4666.803883</td>\n",
       "      <td>0.574040</td>\n",
       "      <td>4568.129063</td>\n",
       "      <td>4229.638464</td>\n",
       "    </tr>\n",
       "    <tr>\n",
       "      <th>2</th>\n",
       "      <td>4704.597316</td>\n",
       "      <td>5299.015293</td>\n",
       "      <td>3789.424103</td>\n",
       "      <td>0.822494</td>\n",
       "      <td>1429.750307</td>\n",
       "      <td>1502.815985</td>\n",
       "    </tr>\n",
       "    <tr>\n",
       "      <th>3</th>\n",
       "      <td>4641.848748</td>\n",
       "      <td>5343.532958</td>\n",
       "      <td>5290.086972</td>\n",
       "      <td>0.630075</td>\n",
       "      <td>8514.035452</td>\n",
       "      <td>7669.505625</td>\n",
       "    </tr>\n",
       "    <tr>\n",
       "      <th>4</th>\n",
       "      <td>3779.492033</td>\n",
       "      <td>4582.668164</td>\n",
       "      <td>3887.728128</td>\n",
       "      <td>0.535722</td>\n",
       "      <td>5134.960053</td>\n",
       "      <td>4698.800721</td>\n",
       "    </tr>\n",
       "  </tbody>\n",
       "</table>\n",
       "</div>"
      ],
      "text/plain": [
       "          P1_1         P1_2         P1_3      P1_4         P1_5         P1_y\n",
       "0  3558.734445  4372.057772  4368.767882  0.496077  7654.296930  6910.577119\n",
       "1  4443.402776  5204.925143  4666.803883  0.574040  4568.129063  4229.638464\n",
       "2  4704.597316  5299.015293  3789.424103  0.822494  1429.750307  1502.815985\n",
       "3  4641.848748  5343.532958  5290.086972  0.630075  8514.035452  7669.505625\n",
       "4  3779.492033  4582.668164  3887.728128  0.535722  5134.960053  4698.800721"
      ]
     },
     "execution_count": 4,
     "metadata": {},
     "output_type": "execute_result"
    }
   ],
   "source": [
    "#read dataset from a local file\n",
    "import pandas as pd\n",
    "\n",
    "datafile_name = 'data/P1.csv'\n",
    "data_df = pd.read_csv(datafile_name)\n",
    "data_df.head()"
   ]
  },
  {
   "cell_type": "markdown",
   "metadata": {},
   "source": [
    "#### Specify the Regression Service Parameters"
   ]
  },
  {
   "cell_type": "code",
   "execution_count": 12,
   "metadata": {},
   "outputs": [],
   "source": [
    "# specify attributes of the regression service call\n",
    "\n",
    "model_id = 'model_P1_1_LR_SK_nb_example'\n",
    "model_type = 'LR_SK'\n",
    "input_vars='P1_1,P1_2,P1_3,P1_4,P1_5'\n",
    "target_var= 'P1_y'\n",
    "\n",
    "fields = {\n",
    "        'model-id':  model_id,\n",
    "        'target-variable': target_var,\n",
    "        'input-variables': input_vars,\n",
    "        'model-type': model_type,\n",
    "        }\n",
    "\n",
    "files = {\n",
    "        'training-data':  ('training-data', open(datafile_name, 'rb'),'text/csv'),\n",
    "        }"
   ]
  },
  {
   "cell_type": "markdown",
   "metadata": {},
   "source": [
    "#### Submit the Regression Job"
   ]
  },
  {
   "cell_type": "code",
   "execution_count": 13,
   "metadata": {},
   "outputs": [
    {
     "name": "stdout",
     "output_type": "stream",
     "text": [
      "{'input-variables': 'P1_1,P1_2,P1_3,P1_4,P1_5',\n",
      " 'model-id': 'model_P1_1_LR_SK_nb_example',\n",
      " 'model-type': 'LR_SK',\n",
      " 'queued-time': '2022-02-04T21:19:29.749517',\n",
      " 'scaling-factor': 1.0,\n",
      " 'status': 'queued',\n",
      " 'target-variable': 'P1_y'}\n"
     ]
    }
   ],
   "source": [
    "# try to delete the model with the same model-id in case it exists already\n",
    "response = requests.delete(reg_job_url +  \"/\" + model_id, headers=headers)\n",
    "#print(response.status_code)\n",
    "\n",
    "# Invoke the POST to submit a new Regression model training job\n",
    "response = requests.post(reg_job_url, data=fields, files=files, headers=headers)\n",
    "pprint.pprint(response.json())"
   ]
  },
  {
   "cell_type": "markdown",
   "metadata": {},
   "source": [
    "#### Get the Status of the Training Job and Wait Until Finished"
   ]
  },
  {
   "cell_type": "code",
   "execution_count": 15,
   "metadata": {},
   "outputs": [
    {
     "name": "stdout",
     "output_type": "stream",
     "text": [
      "{'duration': 0.025615,\n",
      " 'end-time': '2022-02-04T21:23:15.335681',\n",
      " 'finish-time': '2022-02-04T21:23:15.961673',\n",
      " 'input-variables': 'P1_1,P1_2,P1_3,P1_4,P1_5',\n",
      " 'model-id': 'model_P1_1_LR_SK_nb_example',\n",
      " 'model-metadata': {'mean-absolute-error': 13.83381422041587,\n",
      "                    'r2-score': 0.9999491246136101},\n",
      " 'model-type': 'LR_SK',\n",
      " 'output-files': ['model_P1_1_LR_SK_nb_example',\n",
      "                  'model_P1_1_LR_SK_nb_example_stats'],\n",
      " 'queued-time': '2022-02-04T21:19:29.749517',\n",
      " 'scaling-factor': 1.0,\n",
      " 'start-time': '2022-02-04T21:23:15.310066',\n",
      " 'status': 'finished',\n",
      " 'target-variable': 'P1_y'}\n",
      "finished\n"
     ]
    }
   ],
   "source": [
    "# Here we are waiting until the job is finished\n",
    "retries = 0\n",
    "status = \"queued\"\n",
    "while retries < 10 and (status==\"queued\" or status==\"running\"):\n",
    "    time.sleep(5)\n",
    "    get_response = requests.get(reg_job_url +  \"/\" + model_id, headers=headers)\n",
    "    pprint.pprint(get_response.json())\n",
    "    status = get_response.json()['status']\n",
    "    # print(status)\n",
    "\n",
    "status = get_response.json()['status']\n",
    "print(status)"
   ]
  },
  {
   "cell_type": "markdown",
   "metadata": {},
   "source": [
    "## Optimization Service Creation and Job Submission\n",
    "\n",
    "Our AI-based optimization framework allows the embedding of process behavior information, derived from data-driven regression models, within run-time process and system-wide scale optimization models. The choice of the regression model type has implications for the complexity of the resulting optimization model. The novelty of our approach is the ability to efficiently solve the optimization problem for various types of regressors. \n",
    "\n",
    "We have developed several customized algorithms for the generalized network optimization model. For regression models such as feed-forward neural networks with rectified linear unit (ReLU) activation functions (model-type = \"NN_SK\") or tree-based ensemble models (model-type = \"RegTree_SK\" or \"RF_SK\"), we have showed that the optimization model reduces to a mixed-integer linear program (MILP) which can be solved using existing mature MILP solvers. For nonlinear optimization models resulting from complex deep neural networks or general black-box ensemble methods (model-type = \"NN_KERAS\"), a novel two-level augmented Lagrangian method is developed. \n",
    "\n",
    "The figure below shows the optimization technique (\"optimization-type\") to be used based on the regression model type (\"model-type\") chosen above in the regression service call.\n",
    "\n",
    "<img src=\"figures/Picture2.jpg\" alt=\"Drawing\" style=\"width: 550px;\"/>"
   ]
  },
  {
   "cell_type": "markdown",
   "metadata": {},
   "source": [
    "Inputs to the optimization service include:\n",
    "1. optimization-id: optimization ID\n",
    "2. regression-model: regression model trained by the regression service above (referenced by its model-id)\n",
    "3. optimization-type: type of optimization model to be used (refer to the figure above)\n",
    "4. input-regression-config: see explanation below\n",
    "5. output-regression-config: see explanation below\n",
    "6. total-period: number of time periods for which set point recommendations are needed"
   ]
  },
  {
   "cell_type": "markdown",
   "metadata": {},
   "source": [
    "#### Specify the Single Process Optimization Service Parameters"
   ]
  },
  {
   "cell_type": "code",
   "execution_count": 16,
   "metadata": {},
   "outputs": [],
   "source": [
    "# Setup Single Process Optimization Variables\n",
    "opt_id = \"opt_P1_1_LR_SK_nb_example\"\n",
    "reg_model_for_opt = \"model_P1_1_LR_SK_nb_example\"\n",
    "opt_type = 'MILP'\n",
    "input_reg = 'configs/input_regression_cfg.csv'\n",
    "output_reg = 'configs/output_regression_cfg.csv'\n",
    "period=\"1\"\n",
    "\n",
    "fields = {\n",
    "            'optimization-id': opt_id,\n",
    "            'regression-model': model_id,\n",
    "            'optimization-type': opt_type,\n",
    "            'total-period': period\n",
    "        }\n",
    "\n",
    "files = {\n",
    "        'input-regression-config':  ('input-regression-config', open(input_reg, 'rb'),'text/csv'),\n",
    "        'output-regression-config':  ('output-regression-config', open(output_reg, 'rb'),'text/csv'),\n",
    "        }\n"
   ]
  },
  {
   "cell_type": "markdown",
   "metadata": {},
   "source": [
    "#### input-regression-config parameter (input_regression_cfg.csv)\n",
    "This file describes the process (\"plant\"), control and observed variables (\"labels\"), their lower and upper bounds, their initial values, maximum change allowed within 1 time period, and fixed observed values for the observed variables. Please note that the plant ID has to begin with the uppercase \"P\" followed by a numeral. E.g., \"P1\". The user may choose any label for the control and observed variables but the labels need to match variable names used for training the regression model."
   ]
  },
  {
   "cell_type": "code",
   "execution_count": 17,
   "metadata": {},
   "outputs": [
    {
     "data": {
      "text/html": [
       "<div>\n",
       "<style scoped>\n",
       "    .dataframe tbody tr th:only-of-type {\n",
       "        vertical-align: middle;\n",
       "    }\n",
       "\n",
       "    .dataframe tbody tr th {\n",
       "        vertical-align: top;\n",
       "    }\n",
       "\n",
       "    .dataframe thead th {\n",
       "        text-align: right;\n",
       "    }\n",
       "</style>\n",
       "<table border=\"1\" class=\"dataframe\">\n",
       "  <thead>\n",
       "    <tr style=\"text-align: right;\">\n",
       "      <th></th>\n",
       "      <th>plant</th>\n",
       "      <th>label</th>\n",
       "      <th>lower</th>\n",
       "      <th>upper</th>\n",
       "      <th>init</th>\n",
       "      <th>rate_change</th>\n",
       "      <th>observed_value</th>\n",
       "    </tr>\n",
       "  </thead>\n",
       "  <tbody>\n",
       "    <tr>\n",
       "      <th>0</th>\n",
       "      <td>P1</td>\n",
       "      <td>P1_1</td>\n",
       "      <td>3500.0</td>\n",
       "      <td>5500.0</td>\n",
       "      <td>4000.0</td>\n",
       "      <td>0.5</td>\n",
       "      <td>NaN</td>\n",
       "    </tr>\n",
       "    <tr>\n",
       "      <th>1</th>\n",
       "      <td>NaN</td>\n",
       "      <td>P1_2</td>\n",
       "      <td>3500.0</td>\n",
       "      <td>5500.0</td>\n",
       "      <td>4500.0</td>\n",
       "      <td>0.5</td>\n",
       "      <td>NaN</td>\n",
       "    </tr>\n",
       "    <tr>\n",
       "      <th>2</th>\n",
       "      <td>NaN</td>\n",
       "      <td>P1_3</td>\n",
       "      <td>3500.0</td>\n",
       "      <td>5500.0</td>\n",
       "      <td>4000.0</td>\n",
       "      <td>0.5</td>\n",
       "      <td>NaN</td>\n",
       "    </tr>\n",
       "    <tr>\n",
       "      <th>3</th>\n",
       "      <td>NaN</td>\n",
       "      <td>P1_4</td>\n",
       "      <td>NaN</td>\n",
       "      <td>NaN</td>\n",
       "      <td>NaN</td>\n",
       "      <td>NaN</td>\n",
       "      <td>0.7</td>\n",
       "    </tr>\n",
       "    <tr>\n",
       "      <th>4</th>\n",
       "      <td>NaN</td>\n",
       "      <td>P1_5</td>\n",
       "      <td>NaN</td>\n",
       "      <td>NaN</td>\n",
       "      <td>NaN</td>\n",
       "      <td>NaN</td>\n",
       "      <td>85.0</td>\n",
       "    </tr>\n",
       "  </tbody>\n",
       "</table>\n",
       "</div>"
      ],
      "text/plain": [
       "  plant label   lower   upper    init  rate_change  observed_value\n",
       "0    P1  P1_1  3500.0  5500.0  4000.0          0.5             NaN\n",
       "1   NaN  P1_2  3500.0  5500.0  4500.0          0.5             NaN\n",
       "2   NaN  P1_3  3500.0  5500.0  4000.0          0.5             NaN\n",
       "3   NaN  P1_4     NaN     NaN     NaN          NaN             0.7\n",
       "4   NaN  P1_5     NaN     NaN     NaN          NaN            85.0"
      ]
     },
     "execution_count": 17,
     "metadata": {},
     "output_type": "execute_result"
    }
   ],
   "source": [
    "input_reg_df = pd.read_csv(input_reg)\n",
    "input_reg_df.head()"
   ]
  },
  {
   "cell_type": "markdown",
   "metadata": {},
   "source": [
    "#### output-regression-config parameter (output_regression_cfg.csv)\n",
    "This file describes the output (or outflow) variable of a process (\"plant\"), its label, product ID (1, 2, 3 etc. if there are multiple outputs from a process), lower and upper bounds for each product, \"model_type\" and \"model_name\" used in the regression service above, and \"model_stats\" generated by the regression service. Please note that plant ID has to begin with the uppercase \"P\" followed by a numeral. E.g., \"P1\"."
   ]
  },
  {
   "cell_type": "code",
   "execution_count": 18,
   "metadata": {},
   "outputs": [
    {
     "data": {
      "text/html": [
       "<div>\n",
       "<style scoped>\n",
       "    .dataframe tbody tr th:only-of-type {\n",
       "        vertical-align: middle;\n",
       "    }\n",
       "\n",
       "    .dataframe tbody tr th {\n",
       "        vertical-align: top;\n",
       "    }\n",
       "\n",
       "    .dataframe thead th {\n",
       "        text-align: right;\n",
       "    }\n",
       "</style>\n",
       "<table border=\"1\" class=\"dataframe\">\n",
       "  <thead>\n",
       "    <tr style=\"text-align: right;\">\n",
       "      <th></th>\n",
       "      <th>plant</th>\n",
       "      <th>label</th>\n",
       "      <th>product</th>\n",
       "      <th>lower</th>\n",
       "      <th>upper</th>\n",
       "      <th>model_type</th>\n",
       "      <th>model_name</th>\n",
       "      <th>model_stats</th>\n",
       "    </tr>\n",
       "  </thead>\n",
       "  <tbody>\n",
       "    <tr>\n",
       "      <th>0</th>\n",
       "      <td>P1</td>\n",
       "      <td>bitumen</td>\n",
       "      <td>1</td>\n",
       "      <td>50</td>\n",
       "      <td>15000</td>\n",
       "      <td>LR_SK</td>\n",
       "      <td>model_P1_1_LR_SK_nb_example</td>\n",
       "      <td>model_P1_1_LR_SK_nb_example_stats</td>\n",
       "    </tr>\n",
       "  </tbody>\n",
       "</table>\n",
       "</div>"
      ],
      "text/plain": [
       "  plant    label  product  lower  upper model_type  \\\n",
       "0    P1  bitumen        1     50  15000      LR_SK   \n",
       "\n",
       "                    model_name                        model_stats  \n",
       "0  model_P1_1_LR_SK_nb_example  model_P1_1_LR_SK_nb_example_stats  "
      ]
     },
     "execution_count": 18,
     "metadata": {},
     "output_type": "execute_result"
    }
   ],
   "source": [
    "output_reg_df = pd.read_csv(output_reg)\n",
    "output_reg_df.head()"
   ]
  },
  {
   "cell_type": "markdown",
   "metadata": {},
   "source": [
    "#### Submit the Optimization Job"
   ]
  },
  {
   "cell_type": "code",
   "execution_count": 19,
   "metadata": {},
   "outputs": [
    {
     "name": "stdout",
     "output_type": "stream",
     "text": [
      "400\n",
      "{'optimization-id': 'opt_P1_1_LR_SK_nb_example',\n",
      " 'optimization-type': 'MILP',\n",
      " 'queued-time': '2022-02-04T21:42:05.520628',\n",
      " 'regression-model': 'model_P1_1_LR_SK_nb_example',\n",
      " 'status': 'queued',\n",
      " 'total-periods': '1'}\n"
     ]
    }
   ],
   "source": [
    "# try to delete the optimization job with the same optimization-id in case it exists already\n",
    "response = requests.delete(opt_job_url +  \"/\" + opt_id, headers=headers)\n",
    "print(response.status_code)\n",
    "\n",
    "# Submit Single Process Optimization Job\n",
    "response = requests.post(opt_job_url, data=fields, files=files, headers=headers)\n",
    "pprint.pprint(response.json())"
   ]
  },
  {
   "cell_type": "markdown",
   "metadata": {},
   "source": [
    "#### Get the Status of the Optimization Job and Wait Until Finished"
   ]
  },
  {
   "cell_type": "code",
   "execution_count": 21,
   "metadata": {},
   "outputs": [
    {
     "name": "stdout",
     "output_type": "stream",
     "text": [
      "{'duration': 0.551591,\n",
      " 'end-time': '2022-02-04T21:46:41.635804',\n",
      " 'finish-time': '2022-02-04T21:46:42.803813',\n",
      " 'optimization-id': 'opt_P1_1_LR_SK_nb_example',\n",
      " 'optimization-type': 'MILP',\n",
      " 'output-files': ['input_regression_solution.csv',\n",
      "                  'output_regression_solution.csv',\n",
      "                  'tank_level_solution.csv',\n",
      "                  'flow_solution.csv'],\n",
      " 'queued-time': '2022-02-04T21:42:05.520628',\n",
      " 'regression-model': 'model_P1_1_LR_SK_nb_example',\n",
      " 'start-time': '2022-02-04T21:46:41.084213',\n",
      " 'status': 'finished',\n",
      " 'total-periods': '1'}\n",
      "finished\n",
      "finished\n"
     ]
    }
   ],
   "source": [
    "# wait for optmization job to finish\n",
    "retries = 0\n",
    "status = \"queued\"\n",
    "while retries < 50 and (status==\"queued\" or status==\"running\"):\n",
    "    time.sleep(5)\n",
    "    get_response = requests.get(opt_job_url +  \"/\"  + opt_id, headers=headers)\n",
    "    pprint.pprint(get_response.json())\n",
    "    status = get_response.json()['status']\n",
    "    print(status)\n",
    "print(status)\n"
   ]
  },
  {
   "cell_type": "markdown",
   "metadata": {},
   "source": [
    "### Outputs\n",
    "\n",
    "1. input_regression_solution.csv: Columns ‘plant’, ‘Label’, ‘index’, and ‘Type’ of this file contain the information of the inputs of each process node. Columns ‘Period 1’, ..., ‘Period T’ contain the solutions of the inputs (decision variables) of each process node for all periods. Note that the ‘index’ column is the feature index of the regression function in ‘plant’ column. Column ‘Type’ is to specify the type of the input feature (primary or secondary). \n",
    "2. output_regression_solution.csv: Columns ‘plant’, ‘Label’, and ‘Product’ of this file contain the information of the outputs of each process node. Columns ‘Period 1’, ..., ‘Period T’ contain the solutions of the outputs (decision variables) of each process node for all periods. "
   ]
  },
  {
   "cell_type": "markdown",
   "metadata": {},
   "source": [
    "#### Input Regression Solution"
   ]
  },
  {
   "cell_type": "code",
   "execution_count": 22,
   "metadata": {},
   "outputs": [
    {
     "name": "stdout",
     "output_type": "stream",
     "text": [
      "200\n"
     ]
    },
    {
     "data": {
      "text/html": [
       "<div>\n",
       "<style scoped>\n",
       "    .dataframe tbody tr th:only-of-type {\n",
       "        vertical-align: middle;\n",
       "    }\n",
       "\n",
       "    .dataframe tbody tr th {\n",
       "        vertical-align: top;\n",
       "    }\n",
       "\n",
       "    .dataframe thead th {\n",
       "        text-align: right;\n",
       "    }\n",
       "</style>\n",
       "<table border=\"1\" class=\"dataframe\">\n",
       "  <thead>\n",
       "    <tr style=\"text-align: right;\">\n",
       "      <th></th>\n",
       "      <th>Plant</th>\n",
       "      <th>Label</th>\n",
       "      <th>Index</th>\n",
       "      <th>Type</th>\n",
       "      <th>Period 1</th>\n",
       "    </tr>\n",
       "  </thead>\n",
       "  <tbody>\n",
       "    <tr>\n",
       "      <th>0</th>\n",
       "      <td>P1</td>\n",
       "      <td>P1_1</td>\n",
       "      <td>1</td>\n",
       "      <td>primary</td>\n",
       "      <td>5500.0</td>\n",
       "    </tr>\n",
       "    <tr>\n",
       "      <th>1</th>\n",
       "      <td>P1</td>\n",
       "      <td>P1_2</td>\n",
       "      <td>2</td>\n",
       "      <td>primary</td>\n",
       "      <td>5500.0</td>\n",
       "    </tr>\n",
       "    <tr>\n",
       "      <th>2</th>\n",
       "      <td>P1</td>\n",
       "      <td>P1_3</td>\n",
       "      <td>3</td>\n",
       "      <td>primary</td>\n",
       "      <td>5500.0</td>\n",
       "    </tr>\n",
       "  </tbody>\n",
       "</table>\n",
       "</div>"
      ],
      "text/plain": [
       "  Plant Label  Index     Type  Period 1\n",
       "0    P1  P1_1      1  primary    5500.0\n",
       "1    P1  P1_2      2  primary    5500.0\n",
       "2    P1  P1_3      3  primary    5500.0"
      ]
     },
     "execution_count": 22,
     "metadata": {},
     "output_type": "execute_result"
    }
   ],
   "source": [
    "response = requests.get(opt_job_url +  \"/\" + opt_id + \"/solution/input-regression\", headers=headers)\n",
    "print(response.status_code)\n",
    "from io import StringIO\n",
    "in_reg = StringIO(response.text)\n",
    "in_df = pd.read_csv(in_reg, sep=\",\")\n",
    "in_df.head()"
   ]
  },
  {
   "cell_type": "markdown",
   "metadata": {},
   "source": [
    "#### Output Regression Solution"
   ]
  },
  {
   "cell_type": "code",
   "execution_count": 23,
   "metadata": {},
   "outputs": [
    {
     "name": "stdout",
     "output_type": "stream",
     "text": [
      "200\n"
     ]
    },
    {
     "data": {
      "text/html": [
       "<div>\n",
       "<style scoped>\n",
       "    .dataframe tbody tr th:only-of-type {\n",
       "        vertical-align: middle;\n",
       "    }\n",
       "\n",
       "    .dataframe tbody tr th {\n",
       "        vertical-align: top;\n",
       "    }\n",
       "\n",
       "    .dataframe thead th {\n",
       "        text-align: right;\n",
       "    }\n",
       "</style>\n",
       "<table border=\"1\" class=\"dataframe\">\n",
       "  <thead>\n",
       "    <tr style=\"text-align: right;\">\n",
       "      <th></th>\n",
       "      <th>Plant</th>\n",
       "      <th>Label</th>\n",
       "      <th>Product</th>\n",
       "      <th>Period 1</th>\n",
       "    </tr>\n",
       "  </thead>\n",
       "  <tbody>\n",
       "    <tr>\n",
       "      <th>0</th>\n",
       "      <td>P1</td>\n",
       "      <td>bitumen</td>\n",
       "      <td>1</td>\n",
       "      <td>382.29</td>\n",
       "    </tr>\n",
       "  </tbody>\n",
       "</table>\n",
       "</div>"
      ],
      "text/plain": [
       "  Plant    Label  Product  Period 1\n",
       "0    P1  bitumen        1    382.29"
      ]
     },
     "execution_count": 23,
     "metadata": {},
     "output_type": "execute_result"
    }
   ],
   "source": [
    "# Output Regression Solution\n",
    "response = requests.get(opt_job_url +  \"/\" + opt_id + \"/solution/output-regression\", headers=headers)\n",
    "print(response.status_code)\n",
    "out_reg = StringIO(response.text)\n",
    "out_df = pd.read_csv(out_reg, sep=\",\")\n",
    "out_df.head()"
   ]
  }
 ],
 "metadata": {
  "kernelspec": {
   "display_name": "Python 3",
   "language": "python",
   "name": "python3"
  },
  "language_info": {
   "codemirror_mode": {
    "name": "ipython",
    "version": 3
   },
   "file_extension": ".py",
   "mimetype": "text/x-python",
   "name": "python",
   "nbconvert_exporter": "python",
   "pygments_lexer": "ipython3",
   "version": "3.7.3"
  }
 },
 "nbformat": 4,
 "nbformat_minor": 2
}
